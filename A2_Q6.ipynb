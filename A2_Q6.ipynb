{
 "cells": [
  {
   "cell_type": "code",
   "execution_count": 1,
   "metadata": {},
   "outputs": [
    {
     "name": "stdout",
     "output_type": "stream",
     "text": [
      "Mean Average Precision {'BM25': 0.49, 'JMLM': 0.462, 'My_PRM': 0.519}\n",
      "Average Precision at 10 {'BM25': 0.358, 'JMLM': 0.36, 'My_PRM': 0.392}\n",
      "Average DCG at rank 10 {'BM25': 2.09, 'JMLM': 2.024, 'My_PRM': 2.295}\n",
      "Average precision\n",
      "   Topic      BM25      JMLM    My_PRM\n",
      "0   R101  0.664683  0.664683  0.800144\n",
      "1   R102  0.792659  0.789860  0.692507\n",
      "2   R103  0.383498  0.352350  0.439316\n",
      "3   R104  0.915328  0.840896  0.940206\n",
      "4   R105  0.764828  0.646322  0.640000\n",
      "5   R106  0.425245  0.414610  0.725962\n",
      "6   R107  0.358974  0.303419  0.081871\n",
      "7   R108  0.128472  0.134259  0.169312\n",
      "8   R109  0.634641  0.678074  0.947181\n",
      "9   R110  0.486667  0.367593  0.813333\n",
      "10  R111  0.130754  0.130754  0.194613\n",
      "11  R112  1.000000  0.944444  1.000000\n",
      "12  R113  0.635349  0.565796  0.718705\n",
      "13  R114  0.885000  0.902857  0.942857\n",
      "14  R115  0.325397  0.258333  0.218056\n",
      "15  R116  0.301032  0.259274  0.671338\n",
      "16  R117  0.268687  0.483333  0.490909\n",
      "17  R118  0.294444  0.261111  0.222222\n",
      "18  R119  0.132129  0.132129  0.216098\n",
      "19  R120  0.522793  0.506923  0.511464\n",
      "20  R121  0.600784  0.722215  0.903884\n",
      "21  R122  0.552790  0.562133  0.676182\n",
      "22  R123  0.477273  0.452632  0.443122\n",
      "23  R124  0.390517  0.447709  0.620676\n",
      "24  R125  0.685847  0.518056  0.574614\n",
      "25  R126  0.582473  0.605945  0.906198\n",
      "26  R127  0.574603  0.423290  0.556734\n",
      "27  R128  0.328084  0.205433  0.392113\n",
      "28  R129  0.497738  0.466968  0.788532\n",
      "29  R130  0.698413  0.591667  0.755556\n",
      "30  R131  0.424575  0.255574  0.122555\n",
      "31  R132  0.218858  0.213873  0.194779\n",
      "32  R133  1.000000  1.000000  0.542513\n",
      "33  R134  0.179038  0.233150  0.151147\n",
      "34  R135  0.382114  0.606987  0.419136\n",
      "35  R136  0.365443  0.371785  0.488889\n",
      "36  R137  1.000000  0.866667  0.833333\n",
      "37  R138  0.209509  0.189104  0.114818\n",
      "38  R139  0.866667  0.738095  0.791667\n",
      "39  R140  0.812766  0.695289  0.430335\n",
      "40  R141  0.843620  0.725266  0.717053\n",
      "41  R142  0.177137  0.205778  0.368177\n",
      "42  R143  0.130277  0.110386  0.127713\n",
      "43  R144  0.376098  0.412781  0.759936\n",
      "44  R145  0.045549  0.062710  0.045622\n",
      "45  R146  0.397949  0.346667  0.592545\n",
      "46  R147  0.644298  0.362711  0.498016\n",
      "47  R148  0.348952  0.352551  0.287048\n",
      "48  R149  0.200481  0.211651  0.222555\n",
      "49  R150  0.419444  0.500000  0.182724\n",
      "Precision at rank 10\n",
      "   Topic  BM25  JMLM  My_PRM\n",
      "0   R101   0.5   0.5     0.5\n",
      "1   R102   0.6   0.6     0.6\n",
      "2   R103   0.5   0.4     0.4\n",
      "3   R104   1.0   0.8     1.0\n",
      "4   R105   0.7   0.7     0.6\n",
      "5   R106   0.2   0.2     0.3\n",
      "6   R107   0.2   0.2     0.0\n",
      "7   R108   0.1   0.1     0.2\n",
      "8   R109   0.6   0.8     1.0\n",
      "9   R110   0.4   0.4     0.4\n",
      "10  R111   0.0   0.0     0.2\n",
      "11  R112   0.6   0.6     0.6\n",
      "12  R113   0.6   0.6     0.7\n",
      "13  R114   0.5   0.5     0.5\n",
      "14  R115   0.2   0.2     0.1\n",
      "15  R116   0.2   0.1     0.6\n",
      "16  R117   0.2   0.2     0.2\n",
      "17  R118   0.3   0.2     0.2\n",
      "18  R119   0.0   0.0     0.2\n",
      "19  R120   0.6   0.5     0.5\n",
      "20  R121   0.6   0.8     0.9\n",
      "21  R122   0.4   0.5     0.7\n",
      "22  R123   0.1   0.2     0.2\n",
      "23  R124   0.4   0.4     0.4\n",
      "24  R125   0.7   0.7     0.7\n",
      "25  R126   0.7   0.6     0.9\n",
      "26  R127   0.5   0.4     0.3\n",
      "27  R128   0.1   0.1     0.2\n",
      "28  R129   0.4   0.6     0.8\n",
      "29  R130   0.3   0.3     0.3\n",
      "30  R131   0.1   0.1     0.1\n",
      "31  R132   0.2   0.2     0.1\n",
      "32  R133   0.5   0.5     0.2\n",
      "33  R134   0.1   0.1     0.2\n",
      "34  R135   0.2   0.5     0.3\n",
      "35  R136   0.4   0.4     0.5\n",
      "36  R137   0.3   0.3     0.3\n",
      "37  R138   0.1   0.2     0.0\n",
      "38  R139   0.3   0.2     0.3\n",
      "39  R140   0.9   0.9     0.4\n",
      "40  R141   0.9   0.6     0.9\n",
      "41  R142   0.1   0.1     0.1\n",
      "42  R143   0.0   0.0     0.1\n",
      "43  R144   0.3   0.4     0.4\n",
      "44  R145   0.0   0.0     0.0\n",
      "45  R146   0.1   0.1     0.7\n",
      "46  R147   0.5   0.4     0.5\n",
      "47  R148   0.1   0.2     0.0\n",
      "48  R149   0.2   0.2     0.1\n",
      "49  R150   0.4   0.4     0.2\n",
      "Discounted cumulative gain at rank 10\n",
      "   Topic      BM25      JMLM    My_PRM\n",
      "0   R101  3.247425  3.247425  3.446395\n",
      "1   R102  3.434024  3.434024  3.377423\n",
      "2   R103  2.873990  2.431960  3.130930\n",
      "3   R104  5.254495  4.566612  5.254495\n",
      "4   R105  4.008353  2.754495  2.822535\n",
      "5   R106  1.386853  1.356207  2.500000\n",
      "6   R107  1.500000  1.130930  0.000000\n",
      "7   R108  0.333333  0.333333  0.671672\n",
      "8   R109  3.707323  4.490485  5.254495\n",
      "9   R110  1.948459  1.779728  3.130930\n",
      "10  R111  0.000000  0.000000  0.616495\n",
      "11  R112  3.948459  3.877071  3.948459\n",
      "12  R113  3.747425  3.218843  4.304666\n",
      "13  R114  3.394940  3.417813  3.487137\n",
      "14  R115  1.130930  0.930677  0.630930\n",
      "15  R116  1.315465  1.000000  3.779728\n",
      "16  R117  0.931960  1.301030  1.301030\n",
      "17  R118  1.187883  0.817529  0.833333\n",
      "18  R119  0.000000  0.000000  0.634363\n",
      "19  R120  3.189455  2.894940  2.635935\n",
      "20  R121  3.710405  4.552177  4.953465\n",
      "21  R122  2.005005  2.306035  4.103632\n",
      "22  R123  1.000000  1.301030  1.315465\n",
      "23  R124  2.189541  2.373990  2.817529\n",
      "24  R125  4.210405  3.421161  3.638000\n",
      "25  R126  2.754495  2.859555  4.939030\n",
      "26  R127  2.472702  2.044090  2.130930\n",
      "27  R128  1.000000  1.000000  1.356207\n",
      "28  R129  2.964263  3.178101  4.597257\n",
      "29  R130  1.987137  1.764010  2.061606\n",
      "30  R131  1.000000  1.000000  0.315465\n",
      "31  R132  1.430677  1.430677  1.000000\n",
      "32  R133  3.561606  3.561606  2.000000\n",
      "33  R134  0.386853  1.000000  0.616495\n",
      "34  R135  0.689541  3.076393  1.076393\n",
      "35  R136  2.134363  2.116495  2.678101\n",
      "36  R137  2.630930  2.430677  2.386853\n",
      "37  R138  1.000000  0.616495  0.000000\n",
      "38  R139  2.430677  2.000000  2.333333\n",
      "39  R140  4.823818  4.254495  1.917813\n",
      "40  R141  4.898287  3.779728  4.867642\n",
      "41  R142  0.315465  0.430677  1.000000\n",
      "42  R143  0.000000  0.000000  0.301030\n",
      "43  R144  1.720186  1.802602  3.061606\n",
      "44  R145  0.000000  0.000000  0.000000\n",
      "45  R146  1.000000  0.630930  3.290231\n",
      "46  R147  2.948459  1.818813  2.675020\n",
      "47  R148  0.301030  0.634363  0.000000\n",
      "48  R149  0.616495  0.634363  0.630930\n",
      "49  R150  1.763924  2.220186  0.931960\n"
     ]
    }
   ],
   "source": [
    "\n",
    "import pandas as pd\n",
    "import scipy.stats as stats\n",
    "\n",
    "\n",
    "from A2_Q5 import evaluate_rankings"
   ]
  },
  {
   "cell_type": "code",
   "execution_count": 2,
   "metadata": {},
   "outputs": [],
   "source": [
    "# Get effectiveness measures data frames from A2_Q5\n",
    "avg_precision, Precision_at_10, DCG_at_10 = evaluate_rankings()"
   ]
  },
  {
   "cell_type": "code",
   "execution_count": 3,
   "metadata": {},
   "outputs": [],
   "source": [
    "# Example of the results\n",
    "# avg_precision.head(5)"
   ]
  },
  {
   "cell_type": "code",
   "execution_count": 4,
   "metadata": {},
   "outputs": [],
   "source": [
    "# create a new data frame to store the results\n",
    "compare_avg_precision = pd.DataFrame(columns=['Model_1', 'Model_2', 't', 'p-value', 'Significant'])\n",
    "compare_Precision_at_10 = pd.DataFrame(columns=['Model_1', 'Model_2', 't', 'p-value', 'Significant'])\n",
    "compare_DCG_at_10 = pd.DataFrame(columns=['Model_1', 'Model_2', 't', 'p-value', 'Significant'])"
   ]
  },
  {
   "cell_type": "code",
   "execution_count": 5,
   "metadata": {},
   "outputs": [],
   "source": [
    "# select 2 columns from effectiveness measures data (eff_df)  \n",
    "# perform t-test\n",
    "# save the results in the new data frame (compare_df)\n",
    "\n",
    "def t_test(eff_df, compare_df, p_value_threshold):\n",
    "    \n",
    "    # BM25 vs JMLM\n",
    "    significant = False\n",
    "    t_statistic, p_value = stats.ttest_rel(eff_df['BM25'], eff_df['JMLM'], alternative='two-sided')\n",
    "    if p_value < p_value_threshold:\n",
    "        significant = True  \n",
    "    compare_df.loc[len(compare_df.index)] = ['BM25', 'JMLM', t_statistic, p_value, significant]\n",
    "    \n",
    "    # BM25 vs My_PRM\n",
    "    significant = False\n",
    "    t_statistic, p_value = stats.ttest_rel(eff_df['BM25'], eff_df['My_PRM'], alternative='two-sided')\n",
    "    if p_value < p_value_threshold:\n",
    "        significant = True \n",
    "    compare_df.loc[len(compare_df.index)] = ['BM25', 'My_PRM', t_statistic, p_value, significant]\n",
    "    \n",
    "    # JMLM vs My_PRM\n",
    "    significant = False\n",
    "    t_statistic, p_value = stats.ttest_rel(eff_df['JMLM'], eff_df['My_PRM'], alternative='two-sided')\n",
    "    if p_value < p_value_threshold:\n",
    "        significant = True \n",
    "    compare_df.loc[len(compare_df.index)] = ['JMLM', 'My_PRM', t_statistic, p_value, significant]\n",
    "    "
   ]
  },
  {
   "cell_type": "code",
   "execution_count": 6,
   "metadata": {},
   "outputs": [],
   "source": [
    "# Perform t-test \n",
    "# Null hypothesis: There is no significant difference between the two systems\n",
    "# Alternative hypothesis: There is a significant difference between the two systems\n",
    "\n",
    "t_test(avg_precision, compare_avg_precision, 0.05)\n",
    "t_test(Precision_at_10, compare_Precision_at_10, 0.05)\n",
    "t_test(DCG_at_10, compare_DCG_at_10, 0.05)"
   ]
  },
  {
   "cell_type": "code",
   "execution_count": 7,
   "metadata": {},
   "outputs": [
    {
     "name": "stdout",
     "output_type": "stream",
     "text": [
      "  Model_1 Model_2         t   p-value  Significant\n",
      "0    BM25    JMLM  2.180368  0.034062         True\n",
      "1    BM25  My_PRM -1.078976  0.285881        False\n",
      "2    JMLM  My_PRM -2.259146  0.028358         True\n"
     ]
    }
   ],
   "source": [
    "print(compare_avg_precision)"
   ]
  },
  {
   "cell_type": "code",
   "execution_count": 8,
   "metadata": {
    "scrolled": true
   },
   "outputs": [
    {
     "name": "stdout",
     "output_type": "stream",
     "text": [
      "  Model_1 Model_2         t   p-value  Significant\n",
      "0    BM25    JMLM -0.144430  0.885754        False\n",
      "1    BM25  My_PRM -1.278683  0.207032        False\n",
      "2    JMLM  My_PRM -1.226114  0.226016        False\n"
     ]
    }
   ],
   "source": [
    "print(compare_Precision_at_10)"
   ]
  },
  {
   "cell_type": "code",
   "execution_count": 9,
   "metadata": {
    "tags": []
   },
   "outputs": [
    {
     "name": "stdout",
     "output_type": "stream",
     "text": [
      "  Model_1 Model_2         t   p-value  Significant\n",
      "0    BM25    JMLM  0.829069  0.411086        False\n",
      "1    BM25  My_PRM -1.426145  0.160167        False\n",
      "2    JMLM  My_PRM -1.912839  0.061622        False\n"
     ]
    }
   ],
   "source": [
    "print(compare_DCG_at_10)"
   ]
  }
 ],
 "metadata": {
  "kernelspec": {
   "display_name": "Python 3 (ipykernel)",
   "language": "python",
   "name": "python3"
  },
  "language_info": {
   "codemirror_mode": {
    "name": "ipython",
    "version": 3
   },
   "file_extension": ".py",
   "mimetype": "text/x-python",
   "name": "python",
   "nbconvert_exporter": "python",
   "pygments_lexer": "ipython3",
   "version": "3.11.4"
  }
 },
 "nbformat": 4,
 "nbformat_minor": 4
}
