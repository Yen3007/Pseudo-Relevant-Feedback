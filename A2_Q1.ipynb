{
 "cells": [
  {
   "cell_type": "code",
   "execution_count": 1,
   "id": "93047b88",
   "metadata": {
    "tags": []
   },
   "outputs": [],
   "source": [
    "import glob, os\n",
    "import string\n",
    "import sys\n",
    "\n",
    "import math\n",
    "from stemming.porter2 import stem\n",
    "from data_prep import Doc, parse_docs, parse_query, my_df, avg_length, get_queries, get_folder_name\n"
   ]
  },
  {
   "cell_type": "code",
   "execution_count": 2,
   "id": "2aed715a",
   "metadata": {},
   "outputs": [],
   "source": [
    "# In data_prep.py contains the following functions:\n",
    "\n",
    "# Doc object -> docID, terms, doc_len\n",
    "# parse_docs(stop_words, inputpath)\n",
    "# parse_query(query0, stop_words)\n",
    "# my_df(coll)\n",
    "# avg_length(coll)\n",
    "# get_queries(inputpath)\n",
    "# get_folder_name(query_id, file_path)"
   ]
  },
  {
   "cell_type": "code",
   "execution_count": 3,
   "id": "3d059494",
   "metadata": {
    "tags": []
   },
   "outputs": [],
   "source": [
    "### The meaning of variables from lecture slides and some notes related to written function ###\n",
    "# N =  the total number of documents in the collection = len(coll)\n",
    "# n_i = the number of documents that contain term i = df.value of term i\n",
    "# f_i = the frequency weight (count) of term i in the document = f of doc in coll\n",
    "# qf_i = the frequency weight (count) of term i in the query = f of term in q\n",
    "# dl = doc length = doc.doc_len\n",
    "# avdl = the average length of a document in the collection.\n",
    "# k_1 = Typical TREC value for k1 = 1.2\n",
    "# k_2 = 500\n",
    "# b = 0.75\n",
    "# K = k_1*((1-b)+(b*dl/avdl))\n",
    "# R = the number of relevant documents for this query\n",
    "# ri = the number of relevant documents containing term i\n",
    "# The base of log is 10!!!!\n",
    "# BM25 = sum of(log of (((r_i+0.5)/(R-r_i+0.5))/((n_i-r_i+0.5)/(N-n_i-R+r_i+0.5))) * ((k_1+1)*f_i)/(K+f_i) * ((k_2+1)*qf_i)/(k_2+qf_i))\n",
    "\n",
    "# coll = dictionary of docID and Doc object\n",
    "# q = query\n",
    "# df = dictionary of term and document-frequency (df)\n",
    "def my_bm25(coll, q, df):\n",
    "    \n",
    "    stopwords_f = open('common-english-words.txt', 'r')\n",
    "    stop_words = stopwords_f.read().split(',')\n",
    "    stopwords_f.close()\n",
    "    \n",
    "    parsed_query=parse_query(q, stop_words)             # Parse the query.\n",
    "    N=len(coll)                                         # Count number of documents in the collection\n",
    "    avdl=avg_length(coll)                               # Count  the average length of a document in the collection.\n",
    "    k_1 = 1.2                                                             \n",
    "    k_2 = 500                                                           \n",
    "    b = 0.75\n",
    "    R=0\n",
    "    r_i=0\n",
    "\n",
    "    BM25={}                                              # Initialize an empty dictionary to store docID and BM25 score of the document\n",
    "    for docID, doc in coll.items():                      # For each document in the collection\n",
    "        score=0                                          # Set BM25 score of each doc = 0\n",
    "        for term,qf_i in parsed_query.items():           # For each document in the parsed query\n",
    "            n_i=0                                        # Initialize the number of documents that contain term i\n",
    "            if term in df.keys():                        # If the term is in the document frequency dictionary\n",
    "                n_i=df[term]                             # Get the number of documents that contain term i\n",
    "                dl=doc.doc_len                           # Get the length of the document\n",
    "                K=k_1*((1-b)+(b*dl/float(avdl)))         # Calculate K\n",
    "                if term in doc.terms.keys():             # For each document in the document\n",
    "                    f_i=doc.terms[term]                  # Get term frequency  in the document\n",
    "                else: f_i=0\n",
    "                #term_1=math.log10(((r_i+0.5)/(R-r_i+0.5))/((n_i-r_i+0.5)/(N-n_i-R+r_i+0.5)))\n",
    "                #term_1=math.log10(((N-n_i+0.5)/n_i+0.5))     # if assume R=r_i=0\n",
    "                term_1=math.log10((N-n_i+0.5)/(n_i+0.5)+1)  ## Smoothing         \n",
    "                term_2=((k_1+1)*f_i)/(K+f_i)\n",
    "                term_3=((k_2+1)*qf_i)/(k_2+qf_i)\n",
    "                score+=(term_1*term_2*term_3)             # Accumulate score of each term\n",
    "        BM25[docID]=score                                 # Store docID and its BM25 score in the dictionary\n",
    "    return(BM25)"
   ]
  },
  {
   "cell_type": "code",
   "execution_count": 4,
   "id": "ae92b8b6",
   "metadata": {},
   "outputs": [],
   "source": [
    "\n",
    "def BM25(queries, data_path):\n",
    "    \n",
    "    curr_path=os.getcwd()                                  # Get the current working directory\n",
    "    \n",
    "    stopwords_f = open('common-english-words.txt', 'r')    # Open the file containing stop words\n",
    "    stop_words = stopwords_f.read().split(',')             # Read the stop words\n",
    "    stopwords_f.close()                                    # Close the file\n",
    "    \n",
    "    folder_path=curr_path+\"/RankingOutputs\"                # Create a folder to store the output files\n",
    "    os.makedirs(folder_path, exist_ok=True)                # Create the folder if it does not exist\n",
    "\n",
    "    for query_id, query in queries.items():                # For each query in the query dictionary\n",
    "        matched_folder=get_folder_name(query_id, data_path)   # Get the name of corresponding collection \n",
    "        for folder_name in os.listdir(data_path):                   \n",
    "            if (folder_name == matched_folder):           # Find corresponding collection name\n",
    "                inputpath=data_path+'/'+folder_name       # Get the path of the collection\n",
    "                coll = parse_docs(stop_words,inputpath)  # Parse the documents in the collection\n",
    "                os.chdir(curr_path)\n",
    "                df=my_df(coll)                            # Get a dictionary of term and document-frequency (df)\n",
    "                ndocs=len(coll)                           # Count number of documents in the collection\n",
    "                file_name=\"BM25_\"+query_id+\"Ranking.dat\"  # Create a file name\n",
    "                file_path = os.path.join(folder_path, file_name)  # Create a file path\n",
    "        \n",
    "        with open(file_path, \"w\") as writer:              # Open the file to write the BM25 scores\n",
    "                bm25=my_bm25(coll, query, df)              # Calculate BM25 scores for the query\n",
    "                query_details = str(query_id)+' Query:  \"'+query+'\", N:'+str(ndocs)+\"\\n\"\n",
    "                #print(query_details)\n",
    "                \n",
    "                n=0\n",
    "                for docID, score in sorted(bm25.items(),key=lambda x: x[1],reverse=True): # Sort the BM25 scores in descending order\n",
    "                    details=str(docID)+\" \"+str(score)+\"\\n\"  # Get the docID and BM25 score\n",
    "                    n +=1 \n",
    "                    #print(details)\n",
    "                    writer.write(details)                   # Write the details in the file\n",
    "                    #if n==15: break\n",
    "\n",
    "        writer.close()\n",
    "  "
   ]
  },
  {
   "cell_type": "code",
   "execution_count": 5,
   "id": "b53a5aa6",
   "metadata": {
    "tags": []
   },
   "outputs": [],
   "source": [
    "curr_path=os.getcwd()\n",
    "data_path = curr_path+'/Data_Collection'\n",
    "queries = get_queries(\"the50Queries.txt\")          # Get the queries\n",
    "\n",
    "BM25(queries, data_path)"
   ]
  }
 ],
 "metadata": {
  "kernelspec": {
   "display_name": "Python 3 (ipykernel)",
   "language": "python",
   "name": "python3"
  },
  "language_info": {
   "codemirror_mode": {
    "name": "ipython",
    "version": 3
   },
   "file_extension": ".py",
   "mimetype": "text/x-python",
   "name": "python",
   "nbconvert_exporter": "python",
   "pygments_lexer": "ipython3",
   "version": "3.11.4"
  }
 },
 "nbformat": 4,
 "nbformat_minor": 5
}
